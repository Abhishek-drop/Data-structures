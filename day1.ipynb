{
 "cells": [
  {
   "cell_type": "code",
   "execution_count": 20,
   "id": "e2b240b3",
   "metadata": {},
   "outputs": [
    {
     "name": "stdout",
     "output_type": "stream",
     "text": [
      "after deletion of index 6 [6, 9, 42, 45, 69, 106]\n",
      "after deletion of index 5 [6, 9, 42, 45, 69]\n"
     ]
    }
   ],
   "source": [
    "n=[6,9,42,45,69,106,420]\n",
    "\n",
    "del n[6]\n",
    "print(\"after deletion of index 6\",n)\n",
    "del n[5]\n",
    "print(\"after deletion of index 5\",n)"
   ]
  },
  {
   "cell_type": "code",
   "execution_count": 3,
   "id": "bc786d50",
   "metadata": {},
   "outputs": [
    {
     "name": "stdout",
     "output_type": "stream",
     "text": [
      "True\n"
     ]
    }
   ],
   "source": [
    "def prime(num):\n",
    "    if(num <= 1):\n",
    "       return False\n",
    "    for i in range(2,int(num**0.5)+1):\n",
    "        if(i % 2):\n",
    "          return False\n",
    "    return True\n",
    "num = int(input())\n",
    "res = prime(num)\n",
    "print(res)"
   ]
  },
  {
   "cell_type": "code",
   "execution_count": 9,
   "id": "6907187d",
   "metadata": {},
   "outputs": [
    {
     "name": "stdout",
     "output_type": "stream",
     "text": [
      "yes\n"
     ]
    }
   ],
   "source": [
    "\n",
    "import math\n",
    "\n",
    "\n",
    "n=int(input())\n",
    "f = 0;\n",
    "x = int(math.sqrt(n) + 1)\n",
    "for i in range(2,x):\n",
    "    if n%i == 0:\n",
    "        break;\n",
    "if f==0:\n",
    "    print(\"yes\");\n",
    "else:\n",
    "    print(\"bad luck\")"
   ]
  },
  {
   "cell_type": "code",
   "execution_count": 12,
   "id": "b0fc9632",
   "metadata": {},
   "outputs": [
    {
     "name": "stdout",
     "output_type": "stream",
     "text": [
      "2\n",
      "3\n",
      "5\n",
      "7\n",
      "11\n",
      "13\n",
      "17\n"
     ]
    }
   ],
   "source": [
    "import math\n",
    "\n",
    "def is_prime(num):\n",
    "    if num < 2:\n",
    "        return False\n",
    "    for i in range(2, int(math.sqrt(num)) + 1):\n",
    "        if num % i == 0:\n",
    "            return False\n",
    "    return True\n",
    "\n",
    "for i in range(1, 18):\n",
    "    if is_prime(i):\n",
    "        print(i)"
   ]
  },
  {
   "cell_type": "code",
   "execution_count": 6,
   "id": "7c4e73dd",
   "metadata": {},
   "outputs": [
    {
     "name": "stdout",
     "output_type": "stream",
     "text": [
      "40\n"
     ]
    }
   ],
   "source": [
    "def max_profit(prices):\n",
    "    if not prices:\n",
    "        return 0\n",
    "    min_price = prices[0]\n",
    "    max_price = 0\n",
    "    for price in prices:\n",
    "        if price < min_price:\n",
    "            min_price = price\n",
    "        profit = price - min_price\n",
    "        if price > max_price:\n",
    "            max_price = price\n",
    "    return max_price\n",
    "prices=list(map(int,input().split()))\n",
    "res=max_profit(prices)\n",
    "print(res)"
   ]
  },
  {
   "cell_type": "code",
   "execution_count": 12,
   "id": "a15eb136",
   "metadata": {},
   "outputs": [
    {
     "name": "stdout",
     "output_type": "stream",
     "text": [
      "13\n"
     ]
    }
   ],
   "source": [
    "prices =[40,2,5,10,15,1,12]\n",
    "f = 0\n",
    "minp = float('inf')\n",
    "for value in prices:\n",
    "    if value < minp:\n",
    "        minp = value\n",
    "    elif value - minp > f:\n",
    "        f = value  - minp \n",
    "print(f)"
   ]
  },
  {
   "cell_type": "code",
   "execution_count": 3,
   "id": "b6a2aa1c",
   "metadata": {},
   "outputs": [],
   "source": [
    "class Node:\n",
    "    \n",
    "    def __init__(self, data):\n",
    "        \n",
    "        self.data = data\n",
    "        self.next = None "
   ]
  },
  {
   "cell_type": "code",
   "execution_count": 1,
   "id": "49c409fc",
   "metadata": {},
   "outputs": [],
   "source": [
    "class Node:\n",
    "    \n",
    "    def __init__(self, data):\n",
    "        self.data = data\n",
    "        self.next = None\n",
    "\n",
    "class LinkedList:\n",
    "   \n",
    "    def __init__(self):\n",
    "        self.head = None\n",
    "\n",
    "    def insertBeginning(self, data):\n",
    "        \n",
    "        new_node = Node(data)\n",
    "        if self.head is None:\n",
    "            self.head = new_node\n",
    "        else:\n",
    "            new_node.next = self.head\n",
    "            self.head = new_node\n",
    "\n",
    "    def display(self):\n",
    "        \n",
    "        if self.head is None:  \n",
    "            print(\"List is empty.\")\n",
    "            return\n",
    "\n",
    "        current = self.head\n",
    "        elements = []\n",
    "        while current is not None:\n",
    "            elements.append(str(current.data))\n",
    "            current = current.next\n",
    "        print(\" -> \".join(elements) + \" -> End\")\n",
    "    def insertEnd(self, data):\n",
    "       \n",
    "        new_node = Node(data)\n",
    "        if self.head is None:\n",
    "            self.head = new_node\n",
    "        else:\n",
    "            temp = self.head\n",
    "            while temp.next is not None:  \n",
    "                temp = temp.next\n",
    "            temp.next = new_node  \n",
    "    def insertPos(self, data, pos):\n",
    "        \n",
    "        new_node = Node(data)\n",
    "\n",
    "        if pos < 0:\n",
    "            print(\"Position cannot be negative.\")\n",
    "            return\n",
    "\n",
    "        if pos == 0: \n",
    "            new_node.next = self.head\n",
    "            self.head = new_node\n",
    "            return\n",
    "\n",
    "        current = self.head\n",
    "        count = 0\n",
    "        while current is not None and count < pos - 1:\n",
    "            current = current.next\n",
    "            count += 1\n",
    "\n",
    "        if current is None:\n",
    "            print(f\"Position {pos} is out of bounds. List has fewer than {pos} elements.\")\n",
    "            return\n",
    "\n",
    "       \n",
    "        new_node.next = current.next\n",
    "        current.next = new_node"
   ]
  },
  {
   "cell_type": "code",
   "execution_count": 1,
   "id": "d385c262",
   "metadata": {},
   "outputs": [
    {
     "name": "stdout",
     "output_type": "stream",
     "text": [
      "Gopi -> Surya -> Anoku -> Raghu -> Abhishek -> None\n"
     ]
    }
   ],
   "source": [
    "class Node:\n",
    "    def __init__(self, data):\n",
    "        self.data = data  \n",
    "        self.next = None  \n",
    "\n",
    "\n",
    "class LinkedList:\n",
    "    def __init__(self):\n",
    "        self.head = None  \n",
    "\n",
    "    \n",
    "    def append(self, data):\n",
    "        new_node = Node(data)\n",
    "        if not self.head:\n",
    "            self.head = new_node\n",
    "            return\n",
    "        last = self.head\n",
    "        while last.next:\n",
    "            last = last.next\n",
    "        last.next = new_node\n",
    "\n",
    "    \n",
    "    def display(self):\n",
    "        current = self.head\n",
    "        while current:\n",
    "            print(current.data, end=\" -> \")\n",
    "            current = current.next\n",
    "        print(\"None\")\n",
    "\n",
    "ll=LinkedList()\n",
    "ll.append(\"Gopi\")\n",
    "ll.append(\"Surya\")\n",
    "ll.append(\"Anoku\")\n",
    "ll.append(\"Raghu\")\n",
    "ll.append(\"Abhishek\")\n",
    "ll.display()"
   ]
  },
  {
   "cell_type": "code",
   "execution_count": 2,
   "id": "53f7692a",
   "metadata": {},
   "outputs": [
    {
     "name": "stdout",
     "output_type": "stream",
     "text": [
      "Stack elements: [63, 32, 50, 5]\n",
      "Stack elements: [63, 32, 50]\n"
     ]
    }
   ],
   "source": [
    "class Stack:\n",
    "    def __init__(self, top):\n",
    "        self.stack = []\n",
    "        self.top = top\n",
    "\n",
    "    def push(self, data):\n",
    "        if len(self.stack) >= self.top:\n",
    "            print(\"Stack overflow...\")\n",
    "        else:\n",
    "            self.stack.append(data)\n",
    "\n",
    "    def pop(self):\n",
    "        if not self.stack:\n",
    "            print(\"Stack underflow...\")\n",
    "        else:\n",
    "            return self.stack.pop()\n",
    "\n",
    "    def peek(self):\n",
    "        if not self.stack:\n",
    "            print(\"Stack underflow...\")\n",
    "        else:\n",
    "            print(self.stack[-1])\n",
    "\n",
    "    def display(self):\n",
    "        if not self.stack:\n",
    "            print(\"Stack is empty.\")\n",
    "        else:\n",
    "            print(\"Stack elements:\", self.stack)\n",
    "\n",
    "st = Stack(5)\n",
    "st.push(63)\n",
    "st.push(32)\n",
    "st.push(50)\n",
    "st.push(5)\n",
    "st.display()\n",
    "st.pop()\n",
    "st.display()"
   ]
  },
  {
   "cell_type": "code",
   "execution_count": 5,
   "id": "c866e57c",
   "metadata": {},
   "outputs": [
    {
     "name": "stdout",
     "output_type": "stream",
     "text": [
      "statement1 {[(}]<)<>>: No\n"
     ]
    }
   ],
   "source": [
    "def close_brackets(brackets):\n",
    "    stack = []\n",
    "    bracket_map = {')': '(', ']': '[', '}': '{'}\n",
    "    for char in brackets:\n",
    "        if char in bracket_map.values(): \n",
    "            stack.append(char)\n",
    "        elif char in bracket_map:  \n",
    "            if not stack or stack[-1] != bracket_map[char]:\n",
    "                return \"No\"\n",
    "            stack.pop()\n",
    "    return \"Yes\" if not stack else \"No\"\n",
    "\n",
    "brackets = input(\"Enter a string of brackets: \")\n",
    "res = close_brackets(brackets)\n",
    "print(f\"statement1 {brackets}:\",res)"
   ]
  },
  {
   "cell_type": "code",
   "execution_count": 4,
   "id": "3e954ebe",
   "metadata": {},
   "outputs": [],
   "source": [
    "def valid(s:str):\n",
    "    stack = []\n",
    "    mapping = {')': '(', ']': '[', '}': '{','<':'>'}\n",
    "    if not s:\n",
    "        return False\n",
    "    else:\n",
    "        for c in s:\n",
    "            if c in mapping:\n",
    "                top = stack.pop()\n",
    "                if mapping[top]!=c:\n",
    "                    return False\n",
    "                else:\n",
    "                    stack.append(c)\n",
    "    return stack.isEmpty()"
   ]
  },
  {
   "cell_type": "code",
   "execution_count": null,
   "id": "967594b3",
   "metadata": {},
   "outputs": [],
   "source": [
    "class Q_ops:\n",
    "    def __init__(self,size):\n",
    "        self.front = 0\n",
    "        self.rear = 0\n",
    "        self.size = size\n",
    "        self.queue = [None] * size\n",
    "    def nqueus(self,data):\n",
    "        if self.rear >= self.size-1:\n",
    "            return\n",
    "        self.queue[self.rear] = data\n",
    "        self.rare += 1"
   ]
  }
 ],
 "metadata": {
  "kernelspec": {
   "display_name": "Python 3",
   "language": "python",
   "name": "python3"
  },
  "language_info": {
   "codemirror_mode": {
    "name": "ipython",
    "version": 3
   },
   "file_extension": ".py",
   "mimetype": "text/x-python",
   "name": "python",
   "nbconvert_exporter": "python",
   "pygments_lexer": "ipython3",
   "version": "3.11.9"
  }
 },
 "nbformat": 4,
 "nbformat_minor": 5
}
